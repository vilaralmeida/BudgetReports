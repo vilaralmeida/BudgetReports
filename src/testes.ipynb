{
 "cells": [
  {
   "cell_type": "code",
   "execution_count": null,
   "metadata": {},
   "outputs": [],
   "source": [
    "# Código para consulta de quais budgets estão criados a partir do tenancy especificado no arquivo de configuracao \n",
    "\n",
    "import oci\n",
    "import sys\n",
    "\n",
    "# Default config file and profile\n",
    "config = oci.config.from_file(file_location=\"C:\\\\Users\\\\rodrigo.almeida\\\\Documents\\\\GitHub\\\\BudgetReports\\\\.oci\\\\config\")\n",
    "budget_client = oci.budget.BudgetClient(config)\n",
    "\n",
    "print(config)\n",
    "\n",
    "# The first argument is the name of the script, so start the index at 1\n",
    "compartment_id = config['tenancy']\n",
    "\n",
    "\n",
    "print(\"Compartment Id: \" + compartment_id)\n",
    "\n",
    "\n",
    "# list all budgets\n",
    "budgets = oci.pagination.list_call_get_all_results(\n",
    "    budget_client.list_budgets,\n",
    "    compartment_id\n",
    ").data\n",
    "print('ListBudgets for compartment with OCID: {}'.format(compartment_id))\n",
    "for budget in budgets:\n",
    "    print(budget)\n"
   ]
  },
  {
   "cell_type": "code",
   "execution_count": null,
   "metadata": {},
   "outputs": [],
   "source": [
    "import seaborn as sns\n",
    "import pandas as pd\n",
    "file = \"usage_compartments.csv\"\n",
    "# penguins[\"Service Type\"].value_counts().index\n",
    "data = pd.read_csv(file)\n",
    "\n",
    "data.head()\n"
   ]
  }
 ],
 "metadata": {
  "kernelspec": {
   "display_name": "env",
   "language": "python",
   "name": "python3"
  },
  "language_info": {
   "codemirror_mode": {
    "name": "ipython",
    "version": 3
   },
   "file_extension": ".py",
   "mimetype": "text/x-python",
   "name": "python",
   "nbconvert_exporter": "python",
   "pygments_lexer": "ipython3",
   "version": "3.12.5"
  }
 },
 "nbformat": 4,
 "nbformat_minor": 2
}
